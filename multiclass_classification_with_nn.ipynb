{
  "nbformat": 4,
  "nbformat_minor": 0,
  "metadata": {
    "colab": {
      "provenance": [],
      "collapsed_sections": [],
      "toc_visible": true
    },
    "kernelspec": {
      "name": "python3",
      "display_name": "Python 3"
    },
    "language_info": {
      "name": "python"
    },
    "accelerator": "GPU",
    "gpuClass": "standard"
  },
  "cells": [
    {
      "cell_type": "markdown",
      "source": [
        "# Multiclass Classification With Neural Networks\n",
        "## Predicting NBA player position from advanced player stats"
      ],
      "metadata": {
        "id": "9AxRhRriRcg3"
      }
    },
    {
      "cell_type": "markdown",
      "source": [
        "The following notebook trains a multiclass classification model using a neural network.\n",
        "\n",
        "Specifically, we will be training a model to classify whether we can determine an NBA player's listed position based on advanced statistics describing their play."
      ],
      "metadata": {
        "id": "535CYk6jSL92"
      }
    },
    {
      "cell_type": "markdown",
      "source": [
        "## Background Context"
      ],
      "metadata": {
        "id": "lbNjKE_3yhLd"
      }
    },
    {
      "cell_type": "markdown",
      "source": [
        "In basketball, there are five positions: `PG`, `SG`, `SF`, `PF`, `C`. Although the positions are usually mapped very closely to height/weight, each position has a traditional set of expected skills. For example `PGs` are expected to have high assist rates, `SGs` are expected to score, `SFs` are usually well-rounded or good defenders, while `PFs` and `Cs` tend to accumulate more rebounds and blocks and are usually offensive- or defensive-minded respectively.\n",
        "\n",
        "For each player, we will scrape advanced stats that describe how the player plays. We will then determine if how a player plays alone can be used to predict player position."
      ],
      "metadata": {
        "id": "fanL2StYymuj"
      }
    },
    {
      "cell_type": "markdown",
      "source": [
        "## Global Configurations"
      ],
      "metadata": {
        "id": "PaD1MZI89weP"
      }
    },
    {
      "cell_type": "code",
      "source": [
        "import matplotlib.pyplot as plt\n",
        "import pandas as pd\n",
        "import seaborn as sns\n",
        "import torch\n",
        "\n",
        "from torch import nn"
      ],
      "metadata": {
        "id": "ygfwLSSE9l5O"
      },
      "execution_count": 1,
      "outputs": []
    },
    {
      "cell_type": "code",
      "source": [
        "ORDERED_LABELS = ['PG', 'SG', 'SF', 'PF', 'C']\n",
        "POS_COLORS = {'PG': 'g', 'SG': 'c', 'SF': 'b', 'PF': 'm', 'C': 'r'}"
      ],
      "metadata": {
        "id": "OLOHHGUt3k4I"
      },
      "execution_count": 2,
      "outputs": []
    },
    {
      "cell_type": "code",
      "source": [
        "device = 'cuda' if torch.cuda.is_available() else 'cpu'"
      ],
      "metadata": {
        "id": "r-SRYSk5SIqb"
      },
      "execution_count": 3,
      "outputs": []
    },
    {
      "cell_type": "code",
      "source": [
        "def reorder_handles_labels(ax):\n",
        "  handles, labels = ax.get_legend_handles_labels()\n",
        "  order = list(map(lambda label: labels.index(label), ORDERED_LABELS))\n",
        "  return [handles[idx] for idx in order], [labels[idx] for idx in order]"
      ],
      "metadata": {
        "id": "zbR5_pqE7GGo"
      },
      "execution_count": 4,
      "outputs": []
    },
    {
      "cell_type": "markdown",
      "source": [
        "## Data Exploration"
      ],
      "metadata": {
        "id": "g5NgbAgnTQ8z"
      }
    },
    {
      "cell_type": "markdown",
      "source": [
        "Set seed for reproducability"
      ],
      "metadata": {
        "id": "7ygAWROZe4bw"
      }
    },
    {
      "cell_type": "code",
      "source": [
        "SEED = 0\n",
        "if SEED is not None:\n",
        "  torch.manual_seed(SEED)\n",
        "  torch.cuda.manual_seed(SEED)\n",
        "  print(f'Random seed: {SEED}')"
      ],
      "metadata": {
        "colab": {
          "base_uri": "https://localhost:8080/"
        },
        "id": "3ypYZWxUNy5r",
        "outputId": "2feb8689-509b-43a6-e877-561116e44fed"
      },
      "execution_count": 5,
      "outputs": [
        {
          "output_type": "stream",
          "name": "stdout",
          "text": [
            "Random seed: 0\n"
          ]
        }
      ]
    },
    {
      "cell_type": "markdown",
      "source": [
        "### Scraping the data"
      ],
      "metadata": {
        "id": "OlQEG_ieTUXA"
      }
    },
    {
      "cell_type": "markdown",
      "source": [
        "All data are scraped from https://www.basketball-reference.com/leagues/NBA_2022_advanced.html.\n",
        "* There are **600+** raw data points (NBA players)\n",
        "* There are **11** input features (advanced stats: `TS%`, `3PAr`, `Ftr`, `ORB%`, `DRB%`, `TRB%`, `AST%`, `STL%`, `BLK%`, `TOV%`, `USG%`)\n",
        "  * See [glossary](https://www.basketball-reference.com/about/glossary.html) for advanced stat descriptions\n",
        "* There are **5** classes (NBA positions: `PG`, `SG`, `SF`, `PF`, `C`)"
      ],
      "metadata": {
        "id": "_2J2wrWeT8xO"
      }
    },
    {
      "cell_type": "code",
      "source": [
        "import requests\n",
        "from bs4 import BeautifulSoup"
      ],
      "metadata": {
        "id": "J7pSB1ntWAzI"
      },
      "execution_count": 6,
      "outputs": []
    },
    {
      "cell_type": "code",
      "source": [
        "ADVANCED_STATS_URL = \\\n",
        "  'https://www.basketball-reference.com/leagues/NBA_2022_advanced.html'\n",
        "DATA_STATS = ['player', 'pos', 'team_id', 'ts_pct', 'fg3a_per_fga_pct', \n",
        "         'fta_per_fga_pct', 'orb_pct', 'drb_pct', 'trb_pct', 'ast_pct',\n",
        "         'stl_pct', 'blk_pct', 'tov_pct', 'usg_pct']"
      ],
      "metadata": {
        "id": "Z41-7lee_lwm"
      },
      "execution_count": 7,
      "outputs": []
    },
    {
      "cell_type": "code",
      "source": [
        "html = requests.get(ADVANCED_STATS_URL).content\n",
        "soup = BeautifulSoup(html, 'html.parser')\n",
        "data = []\n",
        "for row in soup.find_all('tr', {'class': 'full_table'}):\n",
        "  sample = map(lambda stat: row.find('td', {'data-stat': stat}).text, DATA_STATS)\n",
        "  # Convert numerical stats in sample to float or None if empty\n",
        "  sample = map(lambda x: x[1] if x[0] < 3 else float(x[1]) if x[1] else None,\n",
        "               enumerate(sample))\n",
        "  data.append(list(sample))"
      ],
      "metadata": {
        "id": "xYyUaA7VWB-o"
      },
      "execution_count": 8,
      "outputs": []
    },
    {
      "cell_type": "markdown",
      "source": [
        "### Cleaning the data"
      ],
      "metadata": {
        "id": "_wWi3LdEv43E"
      }
    },
    {
      "cell_type": "code",
      "source": [
        "COLUMNS = ['Player', 'Pos', 'Tm', 'TS%', '3PAr', 'Ftr', 'ORB%', 'DRB%', 'TRB%',\n",
        "           'AST%', 'STL%', 'BLK%', 'TOV%', 'USG%']\n",
        "NUMERICAL_DATA = COLUMNS[3:]"
      ],
      "metadata": {
        "id": "PtZx0fLfWj5J"
      },
      "execution_count": 9,
      "outputs": []
    },
    {
      "cell_type": "code",
      "source": [
        "df = pd.DataFrame.from_records(data, columns=COLUMNS)\n",
        "df = df[df['Tm'] != 'TOT'] # Filter out aggregated TOT row for multiteam players\n",
        "df = df.dropna() # Drop rows with missing stat values\n",
        "print('First 10 rows:')\n",
        "display(df.head(10))"
      ],
      "metadata": {
        "colab": {
          "base_uri": "https://localhost:8080/",
          "height": 381
        },
        "id": "4YLmAbqByUOO",
        "outputId": "3643ac29-9549-440f-a3b6-9b0dc84e73ca"
      },
      "execution_count": 10,
      "outputs": [
        {
          "output_type": "stream",
          "name": "stdout",
          "text": [
            "First 10 rows:\n"
          ]
        },
        {
          "output_type": "display_data",
          "data": {
            "text/plain": [
              "                   Player Pos   Tm    TS%   3PAr    Ftr  ORB%  DRB%  TRB%  \\\n",
              "0        Precious Achiuwa   C  TOR  0.503  0.259  0.217   8.7  21.7  14.9   \n",
              "1            Steven Adams   C  MEM  0.560  0.003  0.518  17.9  22.0  19.9   \n",
              "2             Bam Adebayo   C  MIA  0.608  0.008  0.466   8.7  26.1  17.5   \n",
              "3            Santi Aldama  PF  MEM  0.452  0.364  0.242   9.4  16.1  12.6   \n",
              "4       LaMarcus Aldridge   C  BRK  0.604  0.100  0.223   7.8  18.7  13.4   \n",
              "6           Grayson Allen  SG  MIL  0.609  0.684  0.130   1.9  10.9   6.5   \n",
              "7           Jarrett Allen   C  CLE  0.698  0.018  0.428  12.0  24.5  18.4   \n",
              "8           Jose Alvarado  PG  NOP  0.520  0.374  0.180   3.2  10.2   6.6   \n",
              "10          Kyle Anderson  PF  MEM  0.506  0.232  0.224   4.8  21.6  13.0   \n",
              "11  Giannis Antetokounmpo  PF  MIL  0.633  0.194  0.615   6.6  30.4  18.7   \n",
              "\n",
              "    AST%  STL%  BLK%  TOV%  USG%  \n",
              "0    6.9   1.1   2.3  11.3  18.5  \n",
              "1   16.1   1.6   2.7  19.6  12.0  \n",
              "2   17.5   2.2   2.6  14.4  25.0  \n",
              "3    7.7   0.8   2.5   9.9  18.4  \n",
              "4    6.3   0.6   4.0   8.0  22.4  \n",
              "6    7.6   1.2   1.0   6.7  15.2  \n",
              "7    8.2   1.2   3.7  12.7  18.1  \n",
              "8   26.9   4.2   0.8  11.2  18.4  \n",
              "10  16.2   2.5   2.7  12.1  16.2  \n",
              "11  31.7   1.6   4.0  12.2  34.9  "
            ],
            "text/html": [
              "\n",
              "  <div id=\"df-a9aa13c6-594f-4b06-b056-28f1e36453ff\">\n",
              "    <div class=\"colab-df-container\">\n",
              "      <div>\n",
              "<style scoped>\n",
              "    .dataframe tbody tr th:only-of-type {\n",
              "        vertical-align: middle;\n",
              "    }\n",
              "\n",
              "    .dataframe tbody tr th {\n",
              "        vertical-align: top;\n",
              "    }\n",
              "\n",
              "    .dataframe thead th {\n",
              "        text-align: right;\n",
              "    }\n",
              "</style>\n",
              "<table border=\"1\" class=\"dataframe\">\n",
              "  <thead>\n",
              "    <tr style=\"text-align: right;\">\n",
              "      <th></th>\n",
              "      <th>Player</th>\n",
              "      <th>Pos</th>\n",
              "      <th>Tm</th>\n",
              "      <th>TS%</th>\n",
              "      <th>3PAr</th>\n",
              "      <th>Ftr</th>\n",
              "      <th>ORB%</th>\n",
              "      <th>DRB%</th>\n",
              "      <th>TRB%</th>\n",
              "      <th>AST%</th>\n",
              "      <th>STL%</th>\n",
              "      <th>BLK%</th>\n",
              "      <th>TOV%</th>\n",
              "      <th>USG%</th>\n",
              "    </tr>\n",
              "  </thead>\n",
              "  <tbody>\n",
              "    <tr>\n",
              "      <th>0</th>\n",
              "      <td>Precious Achiuwa</td>\n",
              "      <td>C</td>\n",
              "      <td>TOR</td>\n",
              "      <td>0.503</td>\n",
              "      <td>0.259</td>\n",
              "      <td>0.217</td>\n",
              "      <td>8.7</td>\n",
              "      <td>21.7</td>\n",
              "      <td>14.9</td>\n",
              "      <td>6.9</td>\n",
              "      <td>1.1</td>\n",
              "      <td>2.3</td>\n",
              "      <td>11.3</td>\n",
              "      <td>18.5</td>\n",
              "    </tr>\n",
              "    <tr>\n",
              "      <th>1</th>\n",
              "      <td>Steven Adams</td>\n",
              "      <td>C</td>\n",
              "      <td>MEM</td>\n",
              "      <td>0.560</td>\n",
              "      <td>0.003</td>\n",
              "      <td>0.518</td>\n",
              "      <td>17.9</td>\n",
              "      <td>22.0</td>\n",
              "      <td>19.9</td>\n",
              "      <td>16.1</td>\n",
              "      <td>1.6</td>\n",
              "      <td>2.7</td>\n",
              "      <td>19.6</td>\n",
              "      <td>12.0</td>\n",
              "    </tr>\n",
              "    <tr>\n",
              "      <th>2</th>\n",
              "      <td>Bam Adebayo</td>\n",
              "      <td>C</td>\n",
              "      <td>MIA</td>\n",
              "      <td>0.608</td>\n",
              "      <td>0.008</td>\n",
              "      <td>0.466</td>\n",
              "      <td>8.7</td>\n",
              "      <td>26.1</td>\n",
              "      <td>17.5</td>\n",
              "      <td>17.5</td>\n",
              "      <td>2.2</td>\n",
              "      <td>2.6</td>\n",
              "      <td>14.4</td>\n",
              "      <td>25.0</td>\n",
              "    </tr>\n",
              "    <tr>\n",
              "      <th>3</th>\n",
              "      <td>Santi Aldama</td>\n",
              "      <td>PF</td>\n",
              "      <td>MEM</td>\n",
              "      <td>0.452</td>\n",
              "      <td>0.364</td>\n",
              "      <td>0.242</td>\n",
              "      <td>9.4</td>\n",
              "      <td>16.1</td>\n",
              "      <td>12.6</td>\n",
              "      <td>7.7</td>\n",
              "      <td>0.8</td>\n",
              "      <td>2.5</td>\n",
              "      <td>9.9</td>\n",
              "      <td>18.4</td>\n",
              "    </tr>\n",
              "    <tr>\n",
              "      <th>4</th>\n",
              "      <td>LaMarcus Aldridge</td>\n",
              "      <td>C</td>\n",
              "      <td>BRK</td>\n",
              "      <td>0.604</td>\n",
              "      <td>0.100</td>\n",
              "      <td>0.223</td>\n",
              "      <td>7.8</td>\n",
              "      <td>18.7</td>\n",
              "      <td>13.4</td>\n",
              "      <td>6.3</td>\n",
              "      <td>0.6</td>\n",
              "      <td>4.0</td>\n",
              "      <td>8.0</td>\n",
              "      <td>22.4</td>\n",
              "    </tr>\n",
              "    <tr>\n",
              "      <th>6</th>\n",
              "      <td>Grayson Allen</td>\n",
              "      <td>SG</td>\n",
              "      <td>MIL</td>\n",
              "      <td>0.609</td>\n",
              "      <td>0.684</td>\n",
              "      <td>0.130</td>\n",
              "      <td>1.9</td>\n",
              "      <td>10.9</td>\n",
              "      <td>6.5</td>\n",
              "      <td>7.6</td>\n",
              "      <td>1.2</td>\n",
              "      <td>1.0</td>\n",
              "      <td>6.7</td>\n",
              "      <td>15.2</td>\n",
              "    </tr>\n",
              "    <tr>\n",
              "      <th>7</th>\n",
              "      <td>Jarrett Allen</td>\n",
              "      <td>C</td>\n",
              "      <td>CLE</td>\n",
              "      <td>0.698</td>\n",
              "      <td>0.018</td>\n",
              "      <td>0.428</td>\n",
              "      <td>12.0</td>\n",
              "      <td>24.5</td>\n",
              "      <td>18.4</td>\n",
              "      <td>8.2</td>\n",
              "      <td>1.2</td>\n",
              "      <td>3.7</td>\n",
              "      <td>12.7</td>\n",
              "      <td>18.1</td>\n",
              "    </tr>\n",
              "    <tr>\n",
              "      <th>8</th>\n",
              "      <td>Jose Alvarado</td>\n",
              "      <td>PG</td>\n",
              "      <td>NOP</td>\n",
              "      <td>0.520</td>\n",
              "      <td>0.374</td>\n",
              "      <td>0.180</td>\n",
              "      <td>3.2</td>\n",
              "      <td>10.2</td>\n",
              "      <td>6.6</td>\n",
              "      <td>26.9</td>\n",
              "      <td>4.2</td>\n",
              "      <td>0.8</td>\n",
              "      <td>11.2</td>\n",
              "      <td>18.4</td>\n",
              "    </tr>\n",
              "    <tr>\n",
              "      <th>10</th>\n",
              "      <td>Kyle Anderson</td>\n",
              "      <td>PF</td>\n",
              "      <td>MEM</td>\n",
              "      <td>0.506</td>\n",
              "      <td>0.232</td>\n",
              "      <td>0.224</td>\n",
              "      <td>4.8</td>\n",
              "      <td>21.6</td>\n",
              "      <td>13.0</td>\n",
              "      <td>16.2</td>\n",
              "      <td>2.5</td>\n",
              "      <td>2.7</td>\n",
              "      <td>12.1</td>\n",
              "      <td>16.2</td>\n",
              "    </tr>\n",
              "    <tr>\n",
              "      <th>11</th>\n",
              "      <td>Giannis Antetokounmpo</td>\n",
              "      <td>PF</td>\n",
              "      <td>MIL</td>\n",
              "      <td>0.633</td>\n",
              "      <td>0.194</td>\n",
              "      <td>0.615</td>\n",
              "      <td>6.6</td>\n",
              "      <td>30.4</td>\n",
              "      <td>18.7</td>\n",
              "      <td>31.7</td>\n",
              "      <td>1.6</td>\n",
              "      <td>4.0</td>\n",
              "      <td>12.2</td>\n",
              "      <td>34.9</td>\n",
              "    </tr>\n",
              "  </tbody>\n",
              "</table>\n",
              "</div>\n",
              "      <button class=\"colab-df-convert\" onclick=\"convertToInteractive('df-a9aa13c6-594f-4b06-b056-28f1e36453ff')\"\n",
              "              title=\"Convert this dataframe to an interactive table.\"\n",
              "              style=\"display:none;\">\n",
              "        \n",
              "  <svg xmlns=\"http://www.w3.org/2000/svg\" height=\"24px\"viewBox=\"0 0 24 24\"\n",
              "       width=\"24px\">\n",
              "    <path d=\"M0 0h24v24H0V0z\" fill=\"none\"/>\n",
              "    <path d=\"M18.56 5.44l.94 2.06.94-2.06 2.06-.94-2.06-.94-.94-2.06-.94 2.06-2.06.94zm-11 1L8.5 8.5l.94-2.06 2.06-.94-2.06-.94L8.5 2.5l-.94 2.06-2.06.94zm10 10l.94 2.06.94-2.06 2.06-.94-2.06-.94-.94-2.06-.94 2.06-2.06.94z\"/><path d=\"M17.41 7.96l-1.37-1.37c-.4-.4-.92-.59-1.43-.59-.52 0-1.04.2-1.43.59L10.3 9.45l-7.72 7.72c-.78.78-.78 2.05 0 2.83L4 21.41c.39.39.9.59 1.41.59.51 0 1.02-.2 1.41-.59l7.78-7.78 2.81-2.81c.8-.78.8-2.07 0-2.86zM5.41 20L4 18.59l7.72-7.72 1.47 1.35L5.41 20z\"/>\n",
              "  </svg>\n",
              "      </button>\n",
              "      \n",
              "  <style>\n",
              "    .colab-df-container {\n",
              "      display:flex;\n",
              "      flex-wrap:wrap;\n",
              "      gap: 12px;\n",
              "    }\n",
              "\n",
              "    .colab-df-convert {\n",
              "      background-color: #E8F0FE;\n",
              "      border: none;\n",
              "      border-radius: 50%;\n",
              "      cursor: pointer;\n",
              "      display: none;\n",
              "      fill: #1967D2;\n",
              "      height: 32px;\n",
              "      padding: 0 0 0 0;\n",
              "      width: 32px;\n",
              "    }\n",
              "\n",
              "    .colab-df-convert:hover {\n",
              "      background-color: #E2EBFA;\n",
              "      box-shadow: 0px 1px 2px rgba(60, 64, 67, 0.3), 0px 1px 3px 1px rgba(60, 64, 67, 0.15);\n",
              "      fill: #174EA6;\n",
              "    }\n",
              "\n",
              "    [theme=dark] .colab-df-convert {\n",
              "      background-color: #3B4455;\n",
              "      fill: #D2E3FC;\n",
              "    }\n",
              "\n",
              "    [theme=dark] .colab-df-convert:hover {\n",
              "      background-color: #434B5C;\n",
              "      box-shadow: 0px 1px 3px 1px rgba(0, 0, 0, 0.15);\n",
              "      filter: drop-shadow(0px 1px 2px rgba(0, 0, 0, 0.3));\n",
              "      fill: #FFFFFF;\n",
              "    }\n",
              "  </style>\n",
              "\n",
              "      <script>\n",
              "        const buttonEl =\n",
              "          document.querySelector('#df-a9aa13c6-594f-4b06-b056-28f1e36453ff button.colab-df-convert');\n",
              "        buttonEl.style.display =\n",
              "          google.colab.kernel.accessAllowed ? 'block' : 'none';\n",
              "\n",
              "        async function convertToInteractive(key) {\n",
              "          const element = document.querySelector('#df-a9aa13c6-594f-4b06-b056-28f1e36453ff');\n",
              "          const dataTable =\n",
              "            await google.colab.kernel.invokeFunction('convertToInteractive',\n",
              "                                                     [key], {});\n",
              "          if (!dataTable) return;\n",
              "\n",
              "          const docLinkHtml = 'Like what you see? Visit the ' +\n",
              "            '<a target=\"_blank\" href=https://colab.research.google.com/notebooks/data_table.ipynb>data table notebook</a>'\n",
              "            + ' to learn more about interactive tables.';\n",
              "          element.innerHTML = '';\n",
              "          dataTable['output_type'] = 'display_data';\n",
              "          await google.colab.output.renderOutput(dataTable, element);\n",
              "          const docLink = document.createElement('div');\n",
              "          docLink.innerHTML = docLinkHtml;\n",
              "          element.appendChild(docLink);\n",
              "        }\n",
              "      </script>\n",
              "    </div>\n",
              "  </div>\n",
              "  "
            ]
          },
          "metadata": {}
        }
      ]
    },
    {
      "cell_type": "markdown",
      "source": [
        "### Visualizing the clustered data"
      ],
      "metadata": {
        "id": "n78z8bO11Ft8"
      }
    },
    {
      "cell_type": "code",
      "source": [
        "import warnings\n",
        "warnings.filterwarnings(action='ignore')\n",
        "\n",
        "from sklearn.manifold import TSNE"
      ],
      "metadata": {
        "id": "_DAVvXpV1ItN"
      },
      "execution_count": 11,
      "outputs": []
    },
    {
      "cell_type": "code",
      "source": [
        "N = df[COLUMNS[3:]].values # Get numerical data values\n",
        "T = TSNE(n_components=2, random_state=SEED).fit_transform(N)\n",
        "df['T1'] = list(map(lambda t: t[0], T))\n",
        "df['T2'] = list(map(lambda t: t[1], T))"
      ],
      "metadata": {
        "id": "9xsjNN2IvZjZ"
      },
      "execution_count": 12,
      "outputs": []
    },
    {
      "cell_type": "code",
      "source": [
        "sns.scatterplot(x='T1', y='T2', data=df, hue='Pos', palette=POS_COLORS)\n",
        "handles, labels = reorder_handles_labels(plt.gca())\n",
        "plt.legend(handles, labels, ncol=2)\n",
        "plt.title('All Observations (in 2-dimensions)')\n",
        "plt.show()"
      ],
      "metadata": {
        "colab": {
          "base_uri": "https://localhost:8080/",
          "height": 295
        },
        "id": "dF3xo4vS2eVW",
        "outputId": "6c557a11-17ca-4df5-92e5-6945bb697492"
      },
      "execution_count": 13,
      "outputs": [
        {
          "output_type": "display_data",
          "data": {
            "text/plain": [
              "<Figure size 432x288 with 1 Axes>"
            ],
            "image/png": "[encoded data removed]"
          },
          "metadata": {
            "needs_background": "light"
          }
        }
      ]
    },
    {
      "cell_type": "markdown",
      "source": [
        "Even when visualizing the data in lower-dimensional 2D space, we can see evidence of light clustering."
      ],
      "metadata": {
        "id": "0g9X-NWz7vMs"
      }
    },
    {
      "cell_type": "markdown",
      "source": [
        "### Creating train/test data split"
      ],
      "metadata": {
        "id": "BdvK1nV-9gW1"
      }
    },
    {
      "cell_type": "code",
      "source": [
        "from sklearn.model_selection import train_test_split"
      ],
      "metadata": {
        "id": "iY-SjMyM9kpi"
      },
      "execution_count": 14,
      "outputs": []
    },
    {
      "cell_type": "code",
      "source": [
        "train_df, test_df = train_test_split(df, random_state=SEED)\n",
        "x_train, x_test = train_df[NUMERICAL_DATA].values, test_df[NUMERICAL_DATA].values\n",
        "y_train, y_test = train_df['Pos'].values, test_df['Pos'].values"
      ],
      "metadata": {
        "id": "UceabRPL9taM"
      },
      "execution_count": 15,
      "outputs": []
    },
    {
      "cell_type": "markdown",
      "source": [
        "## Model Fitting"
      ],
      "metadata": {
        "id": "2wzcMp2z_V5z"
      }
    },
    {
      "cell_type": "markdown",
      "source": [
        "### Define neural network model"
      ],
      "metadata": {
        "id": "q23i5-mGgDS4"
      }
    },
    {
      "cell_type": "code",
      "source": [
        "INPUT_SIZE = 11\n",
        "HIDDEN_1_SIZE = 16\n",
        "HIDDEN_2_SIZE = 16\n",
        "HIDDEN_3_SIZE = 8\n",
        "OUTPUT_SIZE = 5"
      ],
      "metadata": {
        "id": "cDLLZh2u_Q3U"
      },
      "execution_count": 16,
      "outputs": []
    },
    {
      "cell_type": "code",
      "source": [
        "model = nn.Sequential(\n",
        "  nn.Linear(in_features=INPUT_SIZE, out_features=HIDDEN_1_SIZE),\n",
        "  nn.ReLU(),\n",
        "  nn.Linear(in_features=HIDDEN_1_SIZE, out_features=HIDDEN_2_SIZE),\n",
        "  nn.ReLU(),\n",
        "  nn.Linear(in_features=HIDDEN_2_SIZE, out_features=HIDDEN_3_SIZE),\n",
        "  nn.ReLU(),\n",
        "  nn.Linear(in_features=HIDDEN_3_SIZE, out_features=OUTPUT_SIZE)\n",
        ").to(device)"
      ],
      "metadata": {
        "id": "c0stK_FfHYbF"
      },
      "execution_count": 17,
      "outputs": []
    },
    {
      "cell_type": "markdown",
      "source": [
        "### Defining the `fit()` function"
      ],
      "metadata": {
        "id": "3aicl6GHUJtu"
      }
    },
    {
      "cell_type": "code",
      "source": [
        "from sklearn.metrics import accuracy_score\n",
        "from torch.optim import SGD"
      ],
      "metadata": {
        "id": "iyk9B82fG1wD"
      },
      "execution_count": 18,
      "outputs": []
    },
    {
      "cell_type": "code",
      "source": [
        "def fit(X_train, Y_train, X_test, Y_test,\n",
        "        epochs = 100000,\n",
        "        loss_fn = nn.CrossEntropyLoss(),\n",
        "        accuracy_fn = accuracy_score,\n",
        "        optimizer = SGD(params=model.parameters(), lr=0.001),\n",
        "        verbose = 1000,\n",
        "        early_stopping = 1000,\n",
        "        stop_after_k = 10):\n",
        "  best = {\n",
        "    'state_dict': None,\n",
        "    'epoch': None,\n",
        "    'loss_train': None,\n",
        "    'accuracy_train': None,\n",
        "    'loss_test': None,\n",
        "    'accuracy_test': None\n",
        "  }\n",
        "  early_stop_k = 0\n",
        "  losses_train = []\n",
        "  losses_test = []\n",
        "  for epoch in range(epochs):\n",
        "    # Training\n",
        "    model.train()\n",
        "    loss_train, accuracy_train = forward(X_train, Y_train, loss_fn, accuracy_fn)\n",
        "    losses_train.append(loss_train.item())\n",
        "    optimizer.zero_grad()\n",
        "    loss_train.backward()\n",
        "    optimizer.step()\n",
        "    # Testing\n",
        "    model.eval()\n",
        "    with torch.inference_mode():\n",
        "      loss_test, accuracy_test = forward(X_test, Y_test, loss_fn, accuracy_fn)\n",
        "      losses_test.append(loss_test.item())\n",
        "    # Verbose Print\n",
        "    if verbose and epoch % verbose == 0:\n",
        "      print_results(epoch, loss_train, accuracy_train, loss_test, accuracy_test)\n",
        "    # Early Stopping\n",
        "    if early_stopping and epoch % early_stopping == 0:\n",
        "      if not best['loss_test'] or loss_test < best['loss_test']:\n",
        "        early_stop_k = 0\n",
        "        best['state_dict'] = model.state_dict()\n",
        "        best['epoch'] = epoch\n",
        "        best['loss_train'] = loss_train\n",
        "        best['accuracy_train'] = accuracy_train\n",
        "        best['loss_test'] = loss_test\n",
        "        best['accuracy_test'] = accuracy_test\n",
        "      else:\n",
        "        early_stop_k += 1\n",
        "        if early_stop_k >= stop_after_k:\n",
        "          print(f'\\nStopping Early\\nBest', end=' ')\n",
        "          print_results(best['epoch'], best['loss_train'],\n",
        "                        best['accuracy_train'], best['loss_test'],\n",
        "                        best['accuracy_test'])\n",
        "          break\n",
        "  model.load_state_dict(best['state_dict'])\n",
        "  return losses_train, losses_test\n",
        "\n",
        "def forward(X, Y, loss_fn, accuracy_fn):\n",
        "  logits = model(X)\n",
        "  pred = torch.softmax(logits, dim=1).argmax(dim=1)\n",
        "  loss = loss_fn(logits.cpu(), Y.type(torch.LongTensor))\n",
        "  accuracy = accuracy_fn(Y.cpu(), pred.cpu())\n",
        "  return loss, accuracy\n",
        "\n",
        "def print_results(epoch, loss_train, accuracy_train, loss_test, accuracy_test):\n",
        "  print(f'Epoch: {epoch}', end=' | ')\n",
        "  print(f'Train Loss: {loss_train:.4f}', end=', ')\n",
        "  print(f'Train Acc: {accuracy_train:.1%}', end=' | ')\n",
        "  print(f'Test Loss: {loss_test:.4f}', end=', ')\n",
        "  print(f'Test Acc: {accuracy_test:.1%}')"
      ],
      "metadata": {
        "id": "UXcPBDaYUNM4"
      },
      "execution_count": 19,
      "outputs": []
    },
    {
      "cell_type": "markdown",
      "source": [
        "### Transforming the data for the model"
      ],
      "metadata": {
        "id": "g-Wz3Fqsd0BD"
      }
    },
    {
      "cell_type": "code",
      "source": [
        "from sklearn import preprocessing"
      ],
      "metadata": {
        "id": "HtXql3RSf-ZJ"
      },
      "execution_count": 20,
      "outputs": []
    },
    {
      "cell_type": "code",
      "source": [
        "le = preprocessing.LabelEncoder()\n",
        "le.fit(ORDERED_LABELS)"
      ],
      "metadata": {
        "colab": {
          "base_uri": "https://localhost:8080/"
        },
        "id": "zpZe60GajGUO",
        "outputId": "c088af2f-6cdd-4025-c6bd-c6b64cdc958c"
      },
      "execution_count": 21,
      "outputs": [
        {
          "output_type": "execute_result",
          "data": {
            "text/plain": [
              "LabelEncoder()"
            ]
          },
          "metadata": {},
          "execution_count": 21
        }
      ]
    },
    {
      "cell_type": "code",
      "source": [
        "X_train = torch.tensor(x_train).type(torch.float).to(device)\n",
        "Y_train = torch.tensor(le.transform(y_train)).type(torch.float).to(device)\n",
        "X_test = torch.tensor(x_test).type(torch.float).to(device)\n",
        "Y_test = torch.tensor(le.transform(y_test)).type(torch.float).to(device)"
      ],
      "metadata": {
        "id": "e46Ny6j1d2GK"
      },
      "execution_count": 22,
      "outputs": []
    },
    {
      "cell_type": "markdown",
      "source": [
        "### Fitting the model"
      ],
      "metadata": {
        "id": "5jmwGgakcAtB"
      }
    },
    {
      "cell_type": "code",
      "source": [
        "losses_train, losses_test = fit(X_train, Y_train, X_test, Y_test)"
      ],
      "metadata": {
        "colab": {
          "base_uri": "https://localhost:8080/"
        },
        "id": "5VQ67rY4cDHX",
        "outputId": "96c6d39b-656e-40ba-ce14-7961ca87f829"
      },
      "execution_count": 23,
      "outputs": [
        {
          "output_type": "stream",
          "name": "stdout",
          "text": [
            "Epoch: 0 | Train Loss: 1.7928, Train Acc: 18.2% | Test Loss: 1.7471, Test Acc: 22.4%\n",
            "Epoch: 1000 | Train Loss: 1.4163, Train Acc: 37.7% | Test Loss: 1.4507, Test Acc: 40.8%\n",
            "Epoch: 2000 | Train Loss: 1.3188, Train Acc: 39.8% | Test Loss: 1.3797, Test Acc: 42.4%\n",
            "Epoch: 3000 | Train Loss: 1.2686, Train Acc: 41.4% | Test Loss: 1.3402, Test Acc: 40.8%\n",
            "Epoch: 4000 | Train Loss: 1.2248, Train Acc: 42.0% | Test Loss: 1.3022, Test Acc: 41.6%\n",
            "Epoch: 5000 | Train Loss: 1.1779, Train Acc: 46.8% | Test Loss: 1.2595, Test Acc: 43.2%\n",
            "Epoch: 6000 | Train Loss: 1.1374, Train Acc: 48.9% | Test Loss: 1.2371, Test Acc: 45.6%\n",
            "Epoch: 7000 | Train Loss: 1.1130, Train Acc: 50.8% | Test Loss: 1.2215, Test Acc: 48.0%\n",
            "Epoch: 8000 | Train Loss: 1.0888, Train Acc: 52.7% | Test Loss: 1.2056, Test Acc: 48.0%\n",
            "Epoch: 9000 | Train Loss: 1.0715, Train Acc: 51.6% | Test Loss: 1.1939, Test Acc: 48.0%\n",
            "Epoch: 10000 | Train Loss: 1.0591, Train Acc: 50.8% | Test Loss: 1.1855, Test Acc: 48.8%\n",
            "Epoch: 11000 | Train Loss: 1.0486, Train Acc: 51.6% | Test Loss: 1.1808, Test Acc: 47.2%\n",
            "Epoch: 12000 | Train Loss: 1.0392, Train Acc: 51.3% | Test Loss: 1.1795, Test Acc: 47.2%\n",
            "Epoch: 13000 | Train Loss: 1.0316, Train Acc: 51.6% | Test Loss: 1.1789, Test Acc: 48.8%\n",
            "Epoch: 14000 | Train Loss: 1.0246, Train Acc: 52.1% | Test Loss: 1.1775, Test Acc: 48.8%\n",
            "Epoch: 15000 | Train Loss: 1.0181, Train Acc: 52.7% | Test Loss: 1.1765, Test Acc: 48.8%\n",
            "Epoch: 16000 | Train Loss: 1.0120, Train Acc: 52.9% | Test Loss: 1.1748, Test Acc: 49.6%\n",
            "Epoch: 17000 | Train Loss: 1.0062, Train Acc: 53.2% | Test Loss: 1.1729, Test Acc: 50.4%\n",
            "Epoch: 18000 | Train Loss: 1.0005, Train Acc: 52.9% | Test Loss: 1.1716, Test Acc: 50.4%\n",
            "Epoch: 19000 | Train Loss: 0.9945, Train Acc: 53.5% | Test Loss: 1.1700, Test Acc: 49.6%\n",
            "Epoch: 20000 | Train Loss: 0.9882, Train Acc: 52.9% | Test Loss: 1.1689, Test Acc: 50.4%\n",
            "Epoch: 21000 | Train Loss: 0.9824, Train Acc: 53.2% | Test Loss: 1.1687, Test Acc: 51.2%\n",
            "Epoch: 22000 | Train Loss: 0.9767, Train Acc: 54.0% | Test Loss: 1.1684, Test Acc: 51.2%\n",
            "Epoch: 23000 | Train Loss: 0.9710, Train Acc: 54.0% | Test Loss: 1.1682, Test Acc: 51.2%\n",
            "Epoch: 24000 | Train Loss: 0.9653, Train Acc: 54.5% | Test Loss: 1.1676, Test Acc: 51.2%\n",
            "Epoch: 25000 | Train Loss: 0.9595, Train Acc: 55.9% | Test Loss: 1.1673, Test Acc: 51.2%\n",
            "Epoch: 26000 | Train Loss: 0.9535, Train Acc: 56.7% | Test Loss: 1.1662, Test Acc: 51.2%\n",
            "Epoch: 27000 | Train Loss: 0.9475, Train Acc: 56.7% | Test Loss: 1.1651, Test Acc: 50.4%\n",
            "Epoch: 28000 | Train Loss: 0.9413, Train Acc: 56.7% | Test Loss: 1.1638, Test Acc: 51.2%\n",
            "Epoch: 29000 | Train Loss: 0.9351, Train Acc: 57.2% | Test Loss: 1.1616, Test Acc: 51.2%\n",
            "Epoch: 30000 | Train Loss: 0.9290, Train Acc: 57.5% | Test Loss: 1.1590, Test Acc: 52.0%\n",
            "Epoch: 31000 | Train Loss: 0.9232, Train Acc: 57.5% | Test Loss: 1.1580, Test Acc: 52.0%\n",
            "Epoch: 32000 | Train Loss: 0.9177, Train Acc: 59.1% | Test Loss: 1.1576, Test Acc: 51.2%\n",
            "Epoch: 33000 | Train Loss: 0.9125, Train Acc: 59.1% | Test Loss: 1.1573, Test Acc: 50.4%\n",
            "Epoch: 34000 | Train Loss: 0.9075, Train Acc: 59.6% | Test Loss: 1.1575, Test Acc: 52.0%\n",
            "Epoch: 35000 | Train Loss: 0.9025, Train Acc: 60.4% | Test Loss: 1.1576, Test Acc: 52.0%\n",
            "Epoch: 36000 | Train Loss: 0.8978, Train Acc: 61.5% | Test Loss: 1.1570, Test Acc: 52.0%\n",
            "Epoch: 37000 | Train Loss: 0.8934, Train Acc: 61.8% | Test Loss: 1.1566, Test Acc: 52.0%\n",
            "Epoch: 38000 | Train Loss: 0.8892, Train Acc: 62.0% | Test Loss: 1.1576, Test Acc: 52.0%\n",
            "Epoch: 39000 | Train Loss: 0.8848, Train Acc: 62.3% | Test Loss: 1.1592, Test Acc: 52.0%\n",
            "Epoch: 40000 | Train Loss: 0.8808, Train Acc: 62.6% | Test Loss: 1.1600, Test Acc: 52.0%\n",
            "Epoch: 41000 | Train Loss: 0.8772, Train Acc: 62.6% | Test Loss: 1.1597, Test Acc: 51.2%\n",
            "Epoch: 42000 | Train Loss: 0.8737, Train Acc: 62.6% | Test Loss: 1.1592, Test Acc: 51.2%\n",
            "Epoch: 43000 | Train Loss: 0.8704, Train Acc: 62.8% | Test Loss: 1.1589, Test Acc: 51.2%\n",
            "Epoch: 44000 | Train Loss: 0.8673, Train Acc: 63.1% | Test Loss: 1.1587, Test Acc: 51.2%\n",
            "Epoch: 45000 | Train Loss: 0.8642, Train Acc: 63.4% | Test Loss: 1.1586, Test Acc: 50.4%\n",
            "Epoch: 46000 | Train Loss: 0.8612, Train Acc: 63.4% | Test Loss: 1.1578, Test Acc: 50.4%\n",
            "Epoch: 47000 | Train Loss: 0.8584, Train Acc: 64.4% | Test Loss: 1.1571, Test Acc: 50.4%\n",
            "\n",
            "Stopping Early\n",
            "Best Epoch: 37000 | Train Loss: 0.8934, Train Acc: 61.8% | Test Loss: 1.1566, Test Acc: 52.0%\n"
          ]
        }
      ]
    },
    {
      "cell_type": "markdown",
      "source": [
        "## Visualizing the Results"
      ],
      "metadata": {
        "id": "fh8e9GrMwGPh"
      }
    },
    {
      "cell_type": "markdown",
      "source": [
        "### Learning curves "
      ],
      "metadata": {
        "id": "-cRPMKOPPaAV"
      }
    },
    {
      "cell_type": "code",
      "source": [
        "plt.plot(losses_train)\n",
        "plt.plot(losses_test)\n",
        "plt.xlabel('epoch')\n",
        "plt.ylabel('loss')\n",
        "plt.legend(['training loss', 'test loss'])\n",
        "plt.title('Learning Curves')\n",
        "plt.show()"
      ],
      "metadata": {
        "colab": {
          "base_uri": "https://localhost:8080/",
          "height": 295
        },
        "id": "I1Dwr_avPni-",
        "outputId": "e86525aa-b477-4783-d7c8-790cd648bbf3"
      },
      "execution_count": 24,
      "outputs": [
        {
          "output_type": "display_data",
          "data": {
            "text/plain": [
              "<Figure size 432x288 with 1 Axes>"
            ],
            "image/png": "[encoded data removed]"
          },
          "metadata": {
            "needs_background": "light"
          }
        }
      ]
    },
    {
      "cell_type": "markdown",
      "source": [
        "### Comparing `test` vs `pred` observations"
      ],
      "metadata": {
        "id": "dSdowfKbwiI8"
      }
    },
    {
      "cell_type": "code",
      "source": [
        "model.eval()\n",
        "with torch.inference_mode():\n",
        "  logits_test = model(X_test)\n",
        "  y_pred = torch.softmax(logits_test, dim=1).argmax(dim=1).cpu().numpy()\n",
        "test_df['Pred'] = le.inverse_transform(y_pred)"
      ],
      "metadata": {
        "id": "t6Q5-QjgwIpt"
      },
      "execution_count": 25,
      "outputs": []
    },
    {
      "cell_type": "code",
      "source": [
        "fig, ax = plt.subplots(1, 2, figsize=(12.8, 4.8))\n",
        "# Subplot (1, 1)\n",
        "sns.scatterplot(ax=ax[0], x='T1', y='T2', data=test_df, hue='Pos',\n",
        "                palette=POS_COLORS)\n",
        "handles, labels = reorder_handles_labels(ax[0])\n",
        "ax[0].legend(handles, labels, ncol=2)\n",
        "ax[0].set_title('Test Observations (in 2-dimensions)')\n",
        "# Subplot (1, 2)\n",
        "sns.scatterplot(ax=ax[1], x='T1', y='T2', data=test_df, hue='Pred',\n",
        "                palette=POS_COLORS)\n",
        "handles, labels = reorder_handles_labels(ax[1])\n",
        "ax[1].legend(handles, labels, ncol=2)\n",
        "ax[1].set_title('Predicted Observations (in 2-dimensions)')\n",
        "plt.show()"
      ],
      "metadata": {
        "colab": {
          "base_uri": "https://localhost:8080/",
          "height": 339
        },
        "id": "B2OIhne3ws_o",
        "outputId": "40d19230-ad58-4754-ae1f-b6db863f89b7"
      },
      "execution_count": 26,
      "outputs": [
        {
          "output_type": "display_data",
          "data": {
            "text/plain": [
              "<Figure size 921.6x345.6 with 2 Axes>"
            ],
            "image/png": "[encoded data removed]"
          },
          "metadata": {
            "needs_background": "light"
          }
        }
      ]
    },
    {
      "cell_type": "markdown",
      "source": [
        "Visually we can see that our predictions (right) captures the overall patterns in the test data (left)."
      ],
      "metadata": {
        "id": "ARcC_UbLCMOq"
      }
    },
    {
      "cell_type": "markdown",
      "source": [
        "### Confusion matrix"
      ],
      "metadata": {
        "id": "7guTAwijyMWS"
      }
    },
    {
      "cell_type": "code",
      "source": [
        "from sklearn.metrics import ConfusionMatrixDisplay, confusion_matrix"
      ],
      "metadata": {
        "id": "R40B6AhpyPQa"
      },
      "execution_count": 27,
      "outputs": []
    },
    {
      "cell_type": "code",
      "source": [
        "C = confusion_matrix(test_df['Pos'], test_df['Pred'], normalize='true')\n",
        "ConfusionMatrixDisplay(C, display_labels=ORDERED_LABELS).plot()\n",
        "plt.title('Confusion Matrix - p(pred|true)')\n",
        "plt.show()"
      ],
      "metadata": {
        "colab": {
          "base_uri": "https://localhost:8080/",
          "height": 295
        },
        "id": "6PpGi2mkIGMx",
        "outputId": "eb6df950-e4b7-482e-b6c9-db2c96477f49"
      },
      "execution_count": 28,
      "outputs": [
        {
          "output_type": "display_data",
          "data": {
            "text/plain": [
              "<Figure size 432x288 with 2 Axes>"
            ],
            "image/png": "[encoded data removed]"
          },
          "metadata": {
            "needs_background": "light"
          }
        }
      ]
    },
    {
      "cell_type": "markdown",
      "source": [
        "## Conclusion"
      ],
      "metadata": {
        "id": "5HSqAkilyb2S"
      }
    },
    {
      "cell_type": "markdown",
      "source": [
        "The model performed well at predicting the `PG` and `SF` labels with accuracies over `0.75`. This may be helped by the fact that `PGs` typically have unique skillsets (specializing in assists) making them easier to distinguish. However, I'm surprised at both the high precision and recall for the `SF` class, especially since `SFs` tend to not have any distinguishing characteristics.\n",
        "\n",
        "We see a lot of confusion predicting true `SG` and `PF` classes where `SGs` were most incorrectly classified as `PGs` and `PFs` were most incorrectly classified as `Cs`. A lot of times a tall `PG` may get classified as a `SG` or a smaller `C` as a `PF`, so this confusion is expected especially absent of any height/weight data.\n",
        "\n",
        "In general, adding height/weight data as input features will almost certainly boost the classification accuracy, as those two features are by far the most important in determining NBA position. However, this exercise still shows that using advanced stats alone, NBA player position can be predicted with above `50%` accuracy (well above `20%` chance)."
      ],
      "metadata": {
        "id": "I-MBa3gbNr3n"
      }
    }
  ]
}